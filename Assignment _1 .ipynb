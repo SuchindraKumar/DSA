{
 "cells": [
  {
   "cell_type": "markdown",
   "id": "73e07aea",
   "metadata": {},
   "source": [
    "# Q1. Given an array of integers nums and an integer target, return indices of the two numbers such that they add up to target.\n",
    "# You may assume that each input would have exactly one solution, and you may not use the same element twice.\n",
    "# You can return the answer in any order.\n",
    "# Example: Input: nums = [2,7,11,15], target = 9 Output0 [0,1]\n",
    "# Explanation: Because nums[0] + nums[1] == 9, we return [0, 1][\n"
   ]
  },
  {
   "cell_type": "code",
   "execution_count": 1,
   "id": "a9489052",
   "metadata": {},
   "outputs": [
    {
     "name": "stdout",
     "output_type": "stream",
     "text": [
      "[0, 1]\n"
     ]
    }
   ],
   "source": [
    "def two_sum(nums, target):\n",
    "  # create a dictionary to store the complements of each number\n",
    "  complements = {}\n",
    "  # loop through the array\n",
    "  for i, num in enumerate(nums):\n",
    "    # check if the current number is a complement of a previous number\n",
    "    if num in complements:\n",
    "      # return the indices of the two numbers that add up to the target\n",
    "      return [complements[num], i]\n",
    "    # otherwise, store the complement of the current number and its index\n",
    "    else:\n",
    "        complements[target - num] = i\n",
    "  # if no solution is found, return an empty list\n",
    "  return []\n",
    "\n",
    "# test the function with the given example\n",
    "nums = [2,7,11,15]\n",
    "target = 9\n",
    "print(two_sum(nums, target)) \n"
   ]
  },
  {
   "cell_type": "markdown",
   "id": "c6ba0bda",
   "metadata": {},
   "source": [
    "Explaintion:\n",
    "\n",
    "The idea is to use a dictionary to store the complements of each number in the array. A complement of a number x is the difference between the target and x, i.e., target - x. For example, if the target is 9 and x is 2, then the complement of x is 7.\n",
    "\n",
    "We loop through the array and for each number, we check if it is a complement of a previous number that we have seen. If yes, then we have found a pair of numbers that add up to the target and we return their indices. If no, then we store the complement of the current number and its index in the dictionary for future reference.\n",
    "\n",
    "This way, we only need to scan the array once and we can find the solution in linear time and constant space.\n",
    "    "
   ]
  },
  {
   "cell_type": "markdown",
   "id": "ca632b3a",
   "metadata": {},
   "source": [
    "# Q2. Given an integer array nums and an integer val, remove all occurrences of val in nums in-place. The order of the elements may be changed. Then return the number of elements in nums which are not equal to val.\n",
    "# Consider the number of elements in nums which are not equal to val be k, to get accepted, you need to do the following things:\n",
    "# •\tChange the array nums such that the first k elements of nums contain the elements which are not equal to val. The remaining elements of nums are not important as well as the size of nums.\n",
    "# •\tReturn k.\n",
    "# Example : Input: nums = [3,2,2,3], val = 3 Output: 2, nums = [2,2,*,*]\n",
    "# Explanation: Your function should return k = 2, with the first two elements of nums being 2. It does not matter what you leave beyond the returned k (hence they are underscores)[\n"
   ]
  },
  {
   "cell_type": "code",
   "execution_count": 8,
   "id": "5ff89d39",
   "metadata": {},
   "outputs": [
    {
     "name": "stdout",
     "output_type": "stream",
     "text": [
      "2\n",
      "[2, 2, 2, 3]\n"
     ]
    }
   ],
   "source": [
    "def remove_element(nums, val):\n",
    "  # initialize a pointer to the first element\n",
    "  i = 0\n",
    "  # loop through the array\n",
    "  for num in nums:\n",
    "    # if the current element is not equal to val\n",
    "    if num != val:\n",
    "      # copy it to the position pointed by i\n",
    "      nums[i] = num\n",
    "      # increment i by one\n",
    "      i += 1\n",
    "  # return the number of elements that are not equal to val\n",
    "  return i\n",
    "\n",
    "# test the function with the given example\n",
    "nums = [3,2,2,3]\n",
    "val = 3\n",
    "print(remove_element(nums, val)) \n",
    "print(nums) \n"
   ]
  },
  {
   "cell_type": "markdown",
   "id": "89b30a7f",
   "metadata": {},
   "source": [
    "Explaintion:\n",
    "\n",
    "The function takes an array of numbers and a value as inputs.\n",
    "\n",
    "It creates a variable i that starts from zero and represents the index of the next non-val element in the array.\n",
    "\n",
    "It loops through each number in the array and checks if it is not equal to the value.\n",
    "\n",
    "If it is not equal, it copies the number to the position pointed by i in the array and increases i by one. This way, it keeps moving the non-val elements to the front of the array and leaving the val elements at the back.\n",
    "\n",
    "After the loop, i will be the number of non-val elements in the array. The function returns i as the answer.\n",
    "\n",
    "The output of the function with the given example is 2 and [2, 2, 3, 3]. The first number is the answer and the second array is the modified array. The order of the elements may be changed and the elements after i are not important."
   ]
  },
  {
   "cell_type": "markdown",
   "id": "7c63c53b",
   "metadata": {},
   "source": [
    "# Q3. Given a sorted array of distinct integers and a target value, return the index if the target is found. If not, return the index where it would be if it were inserted in order.\n",
    "# You must write an algorithm with O(log n) runtime complexity.\n",
    "# Example 1: Input: nums = [1,3,5,6], target = 5\n",
    "# Output: 2\n"
   ]
  },
  {
   "cell_type": "code",
   "execution_count": 21,
   "id": "6003d536",
   "metadata": {},
   "outputs": [],
   "source": [
    "def searchInsert(nums, target):\n",
    "    \n",
    "      # initialize low and high pointers to the start and end of the array\n",
    "      low = 0\n",
    "      high = len(nums) - 1\n",
    "      # loop until low and high cross\n",
    "      while low <= high:\n",
    "        # find the middle index\n",
    "        mid = (low + high) // 2\n",
    "        # if the target is equal to the middle element, return the index\n",
    "        if target == nums[mid]:\n",
    "          return mid\n",
    "        # if the target is less than the middle element, move the high pointer to the left of mid\n",
    "        elif target < nums[mid]:\n",
    "          high = mid - 1\n",
    "        # if the target is greater than the middle element, move the low pointer to the right of mid\n",
    "        else:\n",
    "          low = mid + 1\n",
    "      # if the target is not found, return the low pointer as the insertion index\n",
    "      return low\n"
   ]
  },
  {
   "cell_type": "markdown",
   "id": "29a1d554",
   "metadata": {},
   "source": [
    "Explaintion:\n",
    "\n",
    "The code uses a binary search algorithm to find the target value in the sorted array.\n",
    "\n",
    "The function takes an array of numbers and a target value as inputs.\n",
    "It creates two variables low and high that point to the start and end of the array respectively.\n",
    "It loops until low and high cross each other. In each iteration, it does the following steps:\n",
    "It calculates the middle index by adding low and high and dividing by two.\n",
    "It compares the target value with the middle element of the array. If they are equal, it means that the target is found and the function returns the middle index as the answer.\n",
    "If the target value is less than the middle element, it means that the target is in the left half of the array. To narrow down the search space, it moves the high pointer to the left of the middle index.\n",
    "If the target value is greater than the middle element, it means that the target is in the right half of the array. To narrow down the search space, it moves the low pointer to the right of the middle index.\n",
    "After the loop, if the target value is not found, it means that it should be inserted in the array such that it maintains the sorted order. The low pointer will point to the position where the target should be inserted. The function returns the low pointer as the answer."
   ]
  },
  {
   "cell_type": "code",
   "execution_count": null,
   "id": "c673df24",
   "metadata": {},
   "outputs": [],
   "source": []
  },
  {
   "cell_type": "markdown",
   "id": "b2b1a6ad",
   "metadata": {},
   "source": [
    "# Q4. You are given a large integer represented as an integer array digits, where each digits[i] is the ith digit of the integer. The digits are ordered from most significant to least significant in left-to-right order. The large integer does not contain any leading 0's.\n",
    "# Increment the large integer by one and return the resulting array of digits.\n",
    "# Example 1: Input: digits = [1,2,3] Output: [1,2,4]\n",
    "# Explanation: The array represents the integer 123.\n",
    "# Incrementing by one gives 123 + 1 = 124. Thus, the result should be [1,2,4].\n"
   ]
  },
  {
   "cell_type": "code",
   "execution_count": 22,
   "id": "0ca991c1",
   "metadata": {},
   "outputs": [],
   "source": [
    "def plusOne(digits):\n",
    "    # Start from the rightmost digit\n",
    "    i = len(digits) - 1\n",
    "    # Loop until we reach the leftmost digit or we don't have a carry\n",
    "    while i >= 0 and digits[i] == 9:\n",
    "        # Set the current digit to zero\n",
    "        digits[i] = 0\n",
    "        # Move to the next digit on the left\n",
    "        i -= 1\n",
    "    # If we reached the leftmost digit and it was 9, we need to add a new digit at the beginning\n",
    "    if i == -1:\n",
    "        digits.insert(0, 1)\n",
    "    # Otherwise, we just increment the current digit by one\n",
    "    else:\n",
    "        digits[i] += 1\n",
    "    # Return the modified array\n",
    "    return digits\n"
   ]
  },
  {
   "cell_type": "markdown",
   "id": "acff485c",
   "metadata": {},
   "source": [
    "Explaintion:\n",
    "\n",
    "The function plusOne takes an array of digits as input and returns a new array of digits as output.\n",
    "The idea is to start from the rightmost digit and add one to it. If the result is less than 10, we are done. If the result is 10, we need to set the current digit to zero and carry one to the next digit on the left.\n",
    "To implement this logic, we use a variable i to keep track of the current index in the array. We initialize it to the last index of the array, which is len(digits) - 1.\n",
    "We use a while loop to iterate over the array from right to left, until we reach the leftmost digit or we don’t have a carry. The condition for the loop is i >= 0 and digits[i] == 9. This means that we keep looping as long as we have a valid index and the current digit is 9.\n",
    "Inside the loop, we set the current digit to zero using digits[i] = 0. This is because adding one to 9 gives 10, which requires a carry. Then we decrement i by one using i -= 1. This moves us to the next digit on the left.\n",
    "After the loop ends, we have two possible cases. Either we reached the leftmost digit and it was 9, or we stopped at some digit that was not 9.\n",
    "If we reached the leftmost digit and it was 9, it means that we need to add a new digit at the beginning of the array. For example, if the input was [9,9,9], the output should be [1,0,0,0]. To do this, we use digits.insert(0, 1) which inserts a 1 at index 0 of the array.\n",
    "Otherwise, if we stopped at some digit that was not 9, it means that we just need to increment that digit by one. For example, if the input was [1,2,3], the output should be [1,2,4]. To do this, we use digits[i] += 1 which adds one to the current digit.\n",
    "Finally, we return the modified array using return digits.\n"
   ]
  },
  {
   "cell_type": "code",
   "execution_count": null,
   "id": "35a10a77",
   "metadata": {},
   "outputs": [],
   "source": []
  },
  {
   "cell_type": "markdown",
   "id": "2bbaa09a",
   "metadata": {},
   "source": [
    "# Q5. You are given two integer arrays nums1 and nums2, sorted in non-decreasing order, and two integers m and n, representing the number of elements in nums1 and nums2 respectively.\n",
    "# Merge nums1 and nums2 into a single array sorted in non-decreasing order.\n",
    "# The final sorted array should not be returned by the function, but instead be stored inside the array nums1. To accommodate this, nums1 has a length of m + n, where the first m elements denote the elements that should be merged, and the last n elements are set to 0 and should be ignored. nums2 has a length of n.\n",
    "# Example 1: Input: nums1 = [1,2,3,0,0,0], m = 3, nums2 = [2,5,6], n = 3 Output: [1,2,2,3,5,6]\n",
    "# Explanation: The arrays we are merging are [1,2,3] and [2,5,6]. The result of the merge is [1,2,2,3,5,6] with the underlined elements coming from nums1.\n"
   ]
  },
  {
   "cell_type": "code",
   "execution_count": 23,
   "id": "f3a15bdd",
   "metadata": {},
   "outputs": [
    {
     "name": "stdout",
     "output_type": "stream",
     "text": [
      "[1, 2, 2, 3, 5, 6]\n"
     ]
    }
   ],
   "source": [
    "def merge(nums1, m, nums2, n):\n",
    "  # Start from the end of nums1 and nums2\n",
    "  i = m - 1\n",
    "  j = n - 1\n",
    "  k = m + n - 1\n",
    "\n",
    "  # Loop until one of the arrays is exhausted\n",
    "  while i >= 0 and j >= 0:\n",
    "    # Compare the last elements of nums1 and nums2\n",
    "    # and put the larger one at the end of nums1\n",
    "    if nums1[i] > nums2[j]:\n",
    "      nums1[k] = nums1[i]\n",
    "      i -= 1\n",
    "    else:\n",
    "      nums1[k] = nums2[j]\n",
    "      j -= 1\n",
    "    k -= 1\n",
    "\n",
    "  # If nums2 still has elements left, copy them to the remaining space of nums1\n",
    "  while j >= 0:\n",
    "    nums1[k] = nums2[j]\n",
    "    j -= 1\n",
    "    k -= 1\n",
    "\n",
    "# Test the function\n",
    "nums1 = [1,2,3,0,0,0]\n",
    "m = 3\n",
    "nums2 = [2,5,6]\n",
    "n = 3\n",
    "\n",
    "merge(nums1, m, nums2, n)\n",
    "print(nums1) \n"
   ]
  },
  {
   "cell_type": "markdown",
   "id": "4991d3a9",
   "metadata": {},
   "source": [
    "Explaintion:\n",
    "\n",
    "\n",
    "The idea is to use a two-pointer approach to merge the two arrays in-place. We start from the end of nums1 and nums2, where there are empty spaces in nums1. We use three variables i, j and k to keep track of the indices of the last elements of nums1, nums2 and the merged array respectively.\n",
    "\n",
    "We compare the last elements of nums1 and nums2, and put the larger one at the end of nums1. Then we decrement the corresponding pointer and the merged array pointer. We repeat this process until one of the arrays is exhausted.\n",
    "\n",
    "If nums2 still has elements left, we copy them to the remaining space of nums1. This is because nums1 already has its elements sorted in the front, so we don’t need to move them.\n",
    "\n",
    "This way, we can merge the two arrays in O(m + n) time and O(1) space."
   ]
  },
  {
   "cell_type": "code",
   "execution_count": null,
   "id": "0c8d0c5b",
   "metadata": {},
   "outputs": [],
   "source": []
  },
  {
   "cell_type": "markdown",
   "id": "39091c10",
   "metadata": {},
   "source": [
    "# Q6. Given an integer array nums, return true if any value appears at least twice in the array, and return false if every element is distinct.\n",
    "# Example 1: Input: nums = [1,2,3,1]\n",
    "# Output: true\n"
   ]
  },
  {
   "cell_type": "code",
   "execution_count": 24,
   "id": "962b6a2a",
   "metadata": {},
   "outputs": [
    {
     "name": "stdout",
     "output_type": "stream",
     "text": [
      "True\n"
     ]
    }
   ],
   "source": [
    "def containsDuplicate(nums):\n",
    "  # Use a set to store the seen elements\n",
    "  seen = set()\n",
    "\n",
    "  # Loop through the array\n",
    "  for num in nums:\n",
    "    # If the element is already in the set, return true\n",
    "    if num in seen:\n",
    "      return True\n",
    "    # Otherwise, add it to the set\n",
    "    else:\n",
    "      seen.add(num)\n",
    "\n",
    "  # If the loop ends without finding any duplicate, return false\n",
    "  return False\n",
    "\n",
    "# Test the function\n",
    "nums = [1,2,3,1]\n",
    "print(containsDuplicate(nums)) \n"
   ]
  },
  {
   "cell_type": "markdown",
   "id": "38c6da1d",
   "metadata": {},
   "source": [
    "Explaintion:\n",
    "\n",
    "The idea is to use a set to store the elements that we have seen so far in the array. A set is a data structure that only allows unique values, so it can help us check for duplicates.\n",
    "\n",
    "We loop through the array and for each element, we check if it is already in the set. If it is, that means we have found a duplicate and we can return true. If it is not, we add it to the set and continue the loop.\n",
    "\n",
    "If we finish the loop without finding any duplicate, we can return false.\n",
    "\n",
    "This way, we can check for duplicates in O(n) time and O(n) space, where n is the length of the array.\n"
   ]
  },
  {
   "cell_type": "markdown",
   "id": "6387b37c",
   "metadata": {},
   "source": []
  },
  {
   "cell_type": "markdown",
   "id": "480ff3c1",
   "metadata": {},
   "source": [
    "# Q7. Given an integer array nums, move all 0's to the end of it while maintaining the relative order of the nonzero elements.\n",
    "# Note that you must do this in-place without making a copy of the array.\n",
    "# Example 1: Input: nums = [0,1,0,3,12] Output: [1,3,12,0,0]\n"
   ]
  },
  {
   "cell_type": "code",
   "execution_count": 25,
   "id": "5e34a99c",
   "metadata": {},
   "outputs": [
    {
     "name": "stdout",
     "output_type": "stream",
     "text": [
      "[1, 3, 12, 3, 12]\n"
     ]
    }
   ],
   "source": [
    "def moveZeroes(nums):\n",
    "  # Use a pointer to keep track of the position of the next non-zero element\n",
    "  pos = 0\n",
    "\n",
    "  # Loop through the array\n",
    "  for num in nums:\n",
    "    # If the element is non-zero, swap it with the element at pos\n",
    "    if num != 0:\n",
    "      nums[pos], num = num, nums[pos]\n",
    "      # Increment pos\n",
    "      pos += 1\n",
    "\n",
    "  # No need to return anything as the array is modified in-place\n",
    "\n",
    "# Test the function\n",
    "nums = [0,1,0,3,12]\n",
    "moveZeroes(nums)\n",
    "print(nums)\n"
   ]
  },
  {
   "cell_type": "markdown",
   "id": "07480ecf",
   "metadata": {},
   "source": [
    "Explaintion:\n",
    "\n",
    "\n",
    "The idea is to use a variable called pos to keep track of the position of the next non-zero element in the array. Initially, pos is set to 0.\n",
    "\n",
    "Then, we loop through the array from left to right. For each element, we check if it is non-zero. If it is, we swap it with the element at pos, and then increment pos by 1. This way, we ensure that all the non-zero elements are moved to the left of pos, and all the zero elements are moved to the right of pos.\n",
    "\n",
    "By the end of the loop, pos will point to the first zero element in the array, or to the end of the array if there are no zeroes. The array will be modified in-place, so we don’t need to return anything.\n",
    "\n",
    "Here’s an example:\n",
    "\n",
    "nums = [0,1,0,3,12]\n",
    "\n",
    "pos = 0\n",
    "\n",
    "num = 0 # first element num != 0 # False, do nothing\n",
    "\n",
    "num = 1 # second element num != 0 # True, swap with nums[pos] nums = [1,0,0,3,12] pos = 1\n",
    "\n",
    "num = 0 # third element num != 0 # False, do nothing\n",
    "\n",
    "num = 3 # fourth element num != 0 # True, swap with nums[pos] nums = [1,3,0,0,12] pos = 2\n",
    "\n",
    "num = 12 # fifth element num != 0 # True, swap with nums[pos] nums = [1,3,12,0,0] pos = 3\n",
    "\n",
    "Loop ends\n",
    "\n",
    "nums = [1,3,12,0,0] # final result"
   ]
  },
  {
   "cell_type": "markdown",
   "id": "7f749c23",
   "metadata": {},
   "source": []
  },
  {
   "cell_type": "markdown",
   "id": "f0651fe7",
   "metadata": {},
   "source": [
    "# Q8. You have a set of integers s, which originally contains all the numbers from 1 to n. Unfortunately, due to some error, one of the numbers in s got duplicated to another number in the set, which results in repetition of one number and loss of another number.\n",
    "# You are given an integer array nums representing the data status of this set after the error.\n",
    "# Find the number that occurs twice and the number that is missing and return them in the form of an array.\n",
    "# Example 1: Input: nums = [1,2,2,4] Output: [2,3]\n"
   ]
  },
  {
   "cell_type": "code",
   "execution_count": 27,
   "id": "a8f1c471",
   "metadata": {},
   "outputs": [
    {
     "name": "stdout",
     "output_type": "stream",
     "text": [
      "[3, 2]\n"
     ]
    }
   ],
   "source": [
    "def findErrorNums(nums):\n",
    "    # The length of the array is n\n",
    "    n = len(nums)\n",
    "\n",
    "    # The expected sum of the array is n * (n + 1) / 2\n",
    "    expected_sum = n * (n + 1) // 2\n",
    "\n",
    "    # The actual sum of the array\n",
    "    actual_sum = sum(nums)\n",
    "\n",
    "    # The difference between the expected sum and the actual sum is the missing number minus the duplicate number\n",
    "    diff = expected_sum - actual_sum\n",
    "\n",
    "    # To find the duplicate number, we can use another formula: the expected sum of squares of the array is n * (n + 1) * (2n + 1) / 6\n",
    "    expected_sum_of_squares = n * (n + 1) * (2 * n + 1) // 6\n",
    "\n",
    "    # The actual sum of squares of the array\n",
    "    actual_sum_of_squares = sum(x * x for x in nums)\n",
    "\n",
    "    # The difference between the expected sum of squares and the actual sum of squares is the missing number squared minus the duplicate number squared\n",
    "    diff_of_squares = expected_sum_of_squares - actual_sum_of_squares\n",
    "\n",
    "    # To find the missing number and the duplicate number, we can solve a system of two equations:\n",
    "    # x - y = diff\n",
    "    # x^2 - y^2 = diff_of_squares\n",
    "    # We can simplify it by dividing both sides by x - y:\n",
    "    # x + y = diff_of_squares / diff\n",
    "    # Then we can add and subtract both equations to get x and y:\n",
    "    x = (diff_of_squares / diff + diff) / 2\n",
    "    y = (diff_of_squares / diff - diff) / 2\n",
    "\n",
    "    duplicate = int(x)  # Convert float to integer\n",
    "    missing = int(y)  # Convert float to integer\n",
    "\n",
    "    return [duplicate, missing]\n",
    "\n",
    "\n",
    "# Test the function\n",
    "nums = [1, 2, 2, 4]\n",
    "print(findErrorNums(nums))\n"
   ]
  },
  {
   "cell_type": "markdown",
   "id": "12aff217",
   "metadata": {},
   "source": [
    "Explaintion:\n",
    "\n",
    "The findErrorNums function takes an array of numbers as input and aims to find the duplicate and missing numbers within that array.\n",
    "\n",
    "Here's a step-by-step breakdown of how the code works:\n",
    "\n",
    "The length of the input array is calculated and stored in the variable n. This will help in various calculations later.\n",
    "\n",
    "The expected sum of all the numbers in the array is calculated using a formula: n * (n + 1) / 2. This is the sum we would expect if the array had no duplicate or missing numbers.\n",
    "\n",
    "The actual sum of all the numbers in the array is calculated using the sum function.\n",
    "\n",
    "The difference between the expected sum and the actual sum is calculated and stored in the variable diff. This difference represents the difference between the missing number and the duplicate number.\n",
    "\n",
    "To find the duplicate number, the code calculates the expected sum of squares of the array using a formula: n * (n + 1) * (2 * n + 1) / 6. This is the sum of the squares we would expect if the array had no duplicate or missing numbers.\n",
    "\n",
    "The actual sum of squares of the array is calculated using a loop that squares each number in the array and sums them up.\n",
    "\n",
    "The difference between the expected sum of squares and the actual sum of squares is calculated and stored in the variable diff_of_squares. This difference represents the difference between the squares of the missing number and the duplicate number.\n",
    "\n",
    "The code then uses a mathematical approach to solve a system of equations. It derives two equations from the differences calculated earlier:\n",
    "\n",
    "x - y = diff (where x represents the missing number and y represents the duplicate number)\n",
    "x^2 - y^2 = diff_of_squares\n",
    "By simplifying these equations and solving them simultaneously, the code derives the values of x and y:\n",
    "\n",
    "x = (diff_of_squares / diff + diff) / 2\n",
    "y = (diff_of_squares / diff - diff) / 2\n",
    "Finally, the calculated values of x and y are converted from floats to integers (since the numbers in the array are typically integers) and returned as a list containing the duplicate and missing numbers.\n",
    "\n",
    "In summary, the code calculates the difference between the expected and actual sums of the array and uses that difference to find the missing and duplicate numbers by solving a system of equations.\n",
    "\n",
    "\n",
    "\n",
    "\n",
    "\n"
   ]
  },
  {
   "cell_type": "code",
   "execution_count": null,
   "id": "48190795",
   "metadata": {},
   "outputs": [],
   "source": []
  }
 ],
 "metadata": {
  "kernelspec": {
   "display_name": "Python 3 (ipykernel)",
   "language": "python",
   "name": "python3"
  },
  "language_info": {
   "codemirror_mode": {
    "name": "ipython",
    "version": 3
   },
   "file_extension": ".py",
   "mimetype": "text/x-python",
   "name": "python",
   "nbconvert_exporter": "python",
   "pygments_lexer": "ipython3",
   "version": "3.9.13"
  }
 },
 "nbformat": 4,
 "nbformat_minor": 5
}
